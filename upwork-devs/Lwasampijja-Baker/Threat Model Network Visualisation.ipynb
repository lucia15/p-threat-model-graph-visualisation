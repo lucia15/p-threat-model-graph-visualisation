{
 "cells": [
  {
   "cell_type": "markdown",
   "metadata": {},
   "source": [
    "# Threat Model Glasswall ICAP Cloud Deployment\n",
    "## Network Visualisation"
   ]
  },
  {
   "cell_type": "code",
   "execution_count": 1,
   "metadata": {},
   "outputs": [],
   "source": [
    "import ipysheet\n",
    "import ipywidgets\n",
    "from IPython.core.display import display, HTML\n",
    "from string import Template\n",
    "import pandas as pd\n",
    "import json"
   ]
  },
  {
   "cell_type": "code",
   "execution_count": 2,
   "metadata": {},
   "outputs": [
    {
     "data": {
      "text/html": [
       "<script>\n",
       "code_show=true; \n",
       "function code_toggle() {\n",
       " if (code_show){\n",
       " $('div.input').hide();\n",
       " } else {\n",
       " $('div.input').show();\n",
       " }\n",
       " code_show = !code_show\n",
       "} \n",
       "$( document ).ready(code_toggle);\n",
       "</script>\n",
       "<form action=\"javascript:code_toggle()\"><input type=\"submit\" value=\"Click here to toggle on/off the raw code.\"></form>"
      ],
      "text/plain": [
       "<IPython.core.display.HTML object>"
      ]
     },
     "execution_count": 2,
     "metadata": {},
     "output_type": "execute_result"
    }
   ],
   "source": [
    "HTML('''<script>\n",
    "code_show=true; \n",
    "function code_toggle() {\n",
    " if (code_show){\n",
    " $('div.input').hide();\n",
    " } else {\n",
    " $('div.input').show();\n",
    " }\n",
    " code_show = !code_show\n",
    "} \n",
    "$( document ).ready(code_toggle);\n",
    "</script>\n",
    "<form action=\"javascript:code_toggle()\"><input type=\"submit\" value=\"Click here to toggle on/off the raw code.\"></form>''')"
   ]
  },
  {
   "cell_type": "markdown",
   "metadata": {},
   "source": [
    "## Threat Model Workflow"
   ]
  },
  {
   "cell_type": "code",
   "execution_count": 3,
   "metadata": {},
   "outputs": [
    {
     "data": {
      "text/html": [
       "<div id=\"mynetwork\"></div>\n"
      ],
      "text/plain": [
       "<IPython.core.display.HTML object>"
      ]
     },
     "metadata": {},
     "output_type": "display_data"
    }
   ],
   "source": [
    "%%html\n",
    "<div id=\"mynetwork\"></div>"
   ]
  },
  {
   "cell_type": "code",
   "execution_count": 4,
   "metadata": {},
   "outputs": [
    {
     "data": {
      "application/javascript": [
       "requirejs.config({\n",
       "    paths: {\n",
       "        vis: 'vis'\n",
       "    }\n",
       "});\n",
       "\n",
       "var SHAPE = \"circle\", //\"box\", //\"square\"\n",
       "    SHAPE2 = \"box\",\n",
       "    BLUE = \"#99CDFF\",\n",
       "    YELLOW = \"#FEEBA7\",\n",
       "    GREEN = \"#C6E7B0\",\n",
       "    PURPLE = \"#DAADF0\",\n",
       "    ORANGE = \"#FCC603\",\n",
       "    PINK = \"#FFBBB2\",\n",
       "    BLACK = \"#2B1B17\";\n",
       "    \n",
       "require(['vis'], function(vis){    \n",
       "    \n",
       "    // create an array with nodes\n",
       "    var nodes = new vis.DataSet([ \n",
       "      // Trust Boundary ID \n",
       "      { id: 1000, label: \"Trust \\nBoundary\", color: BLUE, shape: SHAPE },  \n",
       "      // Asset ID  \n",
       "      { id: 1001, label: \"Asset\", color: YELLOW, shape: SHAPE },  \n",
       "      // Threat Actor ID\n",
       "      { id: 1002, label: \"Threat \\nActor\", color: PINK, shape: SHAPE }, \n",
       "      // Security Control ID\n",
       "      { id: 1003, label: \"Security \\nControl\", color: GREEN, shape: SHAPE }, \n",
       "      // Vulnerability\n",
       "      { id: 1004, label: \"Vulnerability\", color: PURPLE, shape: SHAPE2 },\n",
       "      //Risk\n",
       "      { id: 1005, label: \"Risk\", color: ORANGE, shape: SHAPE2 },          \n",
       "    ]);\n",
       "\n",
       "    // create an array with edges\n",
       "    var edges = new vis.DataSet([\n",
       "      {id: 47, from: 1000, to: 1002, label: \"Threat\", arrows: \"to\", color: BLACK },\n",
       "      {id: 48, from: 1001, to: 1002, label: \"Threat\", arrows: \"to\", color: BLACK },\n",
       "      {id: 49, from: 1002, to: 1004, arrows: \"to\", color: BLACK },\n",
       "      {id: 50, from: 1004, to: 1005, arrows: \"to\", color: BLACK },\n",
       "      {id: 51, from: 1005, to: 1003, label: \"Risk Possibility \\nRisk Impact \\nRisk Level\", arrows: \"to\", color: BLACK },\n",
       "    ]);    \n",
       "\n",
       "    // create a network\n",
       "    var container = document.getElementById(\"mynetwork\");\n",
       "    var data = {\n",
       "      nodes: nodes,\n",
       "      edges: edges,\n",
       "    };\n",
       "    var options = {\n",
       "      width: '900px',\n",
       "      height: '400px',\n",
       "      locale: 'en',\n",
       "      physics: false,\n",
       "      interaction: {\n",
       "        hover:true, \n",
       "        tooltipDelay: 300\n",
       "      },        \n",
       "      layout: {\n",
       "        randomSeed: 1,\n",
       "        improvedLayout: true,\n",
       "        hierarchical: {\n",
       "          enabled: true,\n",
       "          direction: 'LR',\n",
       "          nodeSpacing: 200,\n",
       "          levelSeparation: 250,  \n",
       "          sortMethod: 'directed',\n",
       "        },\n",
       "      },    \n",
       "    };    \n",
       "    var network = new vis.Network(container, data, options);\n",
       "});\n"
      ],
      "text/plain": [
       "<IPython.core.display.Javascript object>"
      ]
     },
     "metadata": {},
     "output_type": "display_data"
    }
   ],
   "source": [
    "%%javascript\n",
    "requirejs.config({\n",
    "    paths: {\n",
    "        vis: 'vis'\n",
    "    }\n",
    "});\n",
    "\n",
    "var SHAPE = \"circle\", //\"box\", //\"square\"\n",
    "    SHAPE2 = \"box\",\n",
    "    BLUE = \"#99CDFF\",\n",
    "    YELLOW = \"#FEEBA7\",\n",
    "    GREEN = \"#C6E7B0\",\n",
    "    PURPLE = \"#DAADF0\",\n",
    "    ORANGE = \"#FCC603\",\n",
    "    PINK = \"#FFBBB2\",\n",
    "    BLACK = \"#2B1B17\";\n",
    "    \n",
    "require(['vis'], function(vis){    \n",
    "    \n",
    "    // create an array with nodes\n",
    "    var nodes = new vis.DataSet([ \n",
    "      // Trust Boundary ID \n",
    "      { id: 1000, label: \"Trust \\nBoundary\", color: BLUE, shape: SHAPE },  \n",
    "      // Asset ID  \n",
    "      { id: 1001, label: \"Asset\", color: YELLOW, shape: SHAPE },  \n",
    "      // Threat Actor ID\n",
    "      { id: 1002, label: \"Threat \\nActor\", color: PINK, shape: SHAPE }, \n",
    "      // Security Control ID\n",
    "      { id: 1003, label: \"Security \\nControl\", color: GREEN, shape: SHAPE }, \n",
    "      // Vulnerability\n",
    "      { id: 1004, label: \"Vulnerability\", color: PURPLE, shape: SHAPE2 },\n",
    "      //Risk\n",
    "      { id: 1005, label: \"Risk\", color: ORANGE, shape: SHAPE2 },          \n",
    "    ]);\n",
    "\n",
    "    // create an array with edges\n",
    "    var edges = new vis.DataSet([\n",
    "      {id: 47, from: 1000, to: 1002, label: \"Threat\", arrows: \"to\", color: BLACK },\n",
    "      {id: 48, from: 1001, to: 1002, label: \"Threat\", arrows: \"to\", color: BLACK },\n",
    "      {id: 49, from: 1002, to: 1004, arrows: \"to\", color: BLACK },\n",
    "      {id: 50, from: 1004, to: 1005, arrows: \"to\", color: BLACK },\n",
    "      {id: 51, from: 1005, to: 1003, label: \"Risk Possibility \\nRisk Impact \\nRisk Level\", arrows: \"to\", color: BLACK },\n",
    "    ]);    \n",
    "\n",
    "    // create a network\n",
    "    var container = document.getElementById(\"mynetwork\");\n",
    "    var data = {\n",
    "      nodes: nodes,\n",
    "      edges: edges,\n",
    "    };\n",
    "    var options = {\n",
    "      width: '900px',\n",
    "      height: '400px',\n",
    "      locale: 'en',\n",
    "      physics: false,\n",
    "      interaction: {\n",
    "        hover:true, \n",
    "        tooltipDelay: 300\n",
    "      },        \n",
    "      layout: {\n",
    "        randomSeed: 1,\n",
    "        improvedLayout: true,\n",
    "        hierarchical: {\n",
    "          enabled: true,\n",
    "          direction: 'LR',\n",
    "          nodeSpacing: 200,\n",
    "          levelSeparation: 250,  \n",
    "          sortMethod: 'directed',\n",
    "        },\n",
    "      },    \n",
    "    };    \n",
    "    var network = new vis.Network(container, data, options);\n",
    "});"
   ]
  },
  {
   "cell_type": "markdown",
   "metadata": {},
   "source": [
    "## Threat Model Network Visualisations\n",
    "\n",
    "First let's pull the data from this excelsheet"
   ]
  },
  {
   "cell_type": "code",
   "execution_count": 5,
   "metadata": {
    "scrolled": true
   },
   "outputs": [
    {
     "data": {
      "application/vnd.jupyter.widget-view+json": {
       "model_id": "a4dbf7a8fea44506bb2c8bc80ad6451f",
       "version_major": 2,
       "version_minor": 0
      },
      "text/plain": [
       "Sheet(cells=(Cell(choice=[], column_end=0, column_start=0, numeric_format=None, row_end=11, row_start=0, squee…"
      ]
     },
     "metadata": {},
     "output_type": "display_data"
    }
   ],
   "source": [
    "df = pd.read_excel (r'data/threat_table.xlsx')\n",
    "\n",
    "threat_table = ipysheet.from_dataframe(df)\n",
    "threat_table"
   ]
  },
  {
   "cell_type": "code",
   "execution_count": 6,
   "metadata": {},
   "outputs": [],
   "source": [
    "# save changes to excel\n",
    "df_to_excel = ipysheet.to_dataframe(threat_table)\n",
    "df_to_excel.to_excel('data/threat_table.xlsx', index=False)"
   ]
  },
  {
   "cell_type": "code",
   "execution_count": 7,
   "metadata": {},
   "outputs": [],
   "source": [
    "# Reopen the edited file\n",
    "\n",
    "threat_table = pd.read_excel (r'data/threat_table.xlsx')"
   ]
  },
  {
   "cell_type": "code",
   "execution_count": 8,
   "metadata": {},
   "outputs": [],
   "source": [
    "nodes = []\n",
    "edges = []\n",
    "\n",
    "nodes_ids = {}\n",
    "id_counter = 1\n",
    "edge_id = 0\n",
    "edges_pairs = []\n",
    "\n",
    "\n",
    "def wrap_by_word(s, n):\n",
    "    \"\"\"\n",
    "    Returns a string where \\n is inserted between every n words\n",
    "    \n",
    "    :param s: string\n",
    "    :param n: integer, number of words\n",
    "    :return:\n",
    "    \"\"\"\n",
    "    a = s.split()\n",
    "    ret = ''\n",
    "    for i in range(0, len(a), n):\n",
    "        ret += ' '.join(a[i:i+n]) + '\\n'\n",
    "    return ret\n",
    "\n",
    "\n",
    "def add_node(id_counter, label, group, n=3):\n",
    "    if label not in nodes_ids:\n",
    "        d = {}\n",
    "        \n",
    "        d[\"id\"] = id_counter\n",
    "        \n",
    "        if isinstance(label, str):  \n",
    "            d[\"label\"] = wrap_by_word(label, n)\n",
    "        else:\n",
    "            d[\"label\"] = label\n",
    "        \n",
    "        d[\"group\"] = group\n",
    "        \n",
    "        if group == \"TrustBoundary\":\n",
    "            d[\"color\"] = \"#99CDFF\"\n",
    "            d[\"shape\"] = \"circle\"\n",
    "            d[\"level\"] = 0   \n",
    "        elif group == \"Asset\":\n",
    "            d[\"color\"] = \"#FEEBA7\"\n",
    "            d[\"shape\"] = \"circle\"\n",
    "            d[\"level\"] = 0               \n",
    "        elif group == \"ThreatActor\":\n",
    "            d[\"color\"] = \"#FFBBB2\"\n",
    "            d[\"shape\"] = \"circle\"\n",
    "            d[\"level\"] = 1              \n",
    "        elif group == \"SecurityControl\":\n",
    "            d[\"color\"] = \"#C6E7B0\"\n",
    "            d[\"shape\"] = \"circle\"\n",
    "            d[\"level\"] = 4               \n",
    "        elif group == \"Vulnerability\":\n",
    "            d[\"color\"] = \"#DAADF0\"\n",
    "            d[\"shape\"] = \"box\"\n",
    "            d[\"level\"] = 2               \n",
    "        elif group == \"Risk\":\n",
    "            d[\"color\"] = \"#FCC603\"\n",
    "            d[\"shape\"] = \"box\"\n",
    "            d[\"level\"] = 3   \n",
    "        \n",
    "        nodes_ids[label] = id_counter\n",
    "        nodes.append(d)\n",
    "        id_counter += 1\n",
    "        \n",
    "    return id_counter\n",
    "\n",
    "\n",
    "def add_edge(a, b, edge_id, label=\"\", length=100):\n",
    "        \n",
    "    m = edges_pairs.count((a, b))\n",
    "    \n",
    "    if m == 0 :\n",
    "        color = \"black\"\n",
    "    if m == 1:\n",
    "        color = \"red\"\n",
    "    if m == 2:\n",
    "        color = \"blue\"\n",
    "        \n",
    "    edges_pairs.append((a, b))\n",
    "           \n",
    "    edges.append({\"id\": edge_id, \n",
    "                \"from\": a, \n",
    "                \"to\": b, \n",
    "                \"label\": label, \n",
    "                \"arrows\": \"to\", \n",
    "                \"color\": color,\n",
    "                \"length\": length \n",
    "                 })\n",
    "    edge_id += 1\n",
    "    \n",
    "    return edge_id\n",
    "\n",
    "\n",
    "for i in range(len(threat_table)):\n",
    "    \n",
    "    # NODES\n",
    "    label1 = threat_table.iloc[i]['Trust_Boundary_Description']\n",
    "    \n",
    "    if threat_table.iloc[i]['Trust_Boundary_ID'][0]=='T':\n",
    "        group = \"TrustBoundary\"\n",
    "    elif threat_table.iloc[i]['Trust_Boundary_ID'][0]=='A':\n",
    "        group = \"Asset\"\n",
    "    \n",
    "    id_counter = add_node(id_counter, label1, group, n=2)\n",
    "    \n",
    "    label2 = threat_table.iloc[i]['Threat_Actor_Description']\n",
    "    id_counter = add_node(id_counter, label2, group=\"ThreatActor\", n=2)\n",
    "    \n",
    "    label3 = threat_table.iloc[i]['Vulnerability']\n",
    "    id_counter = add_node(id_counter, label3, group=\"Vulnerability\")\n",
    "    \n",
    "    label4 = threat_table.iloc[i]['Risk']\n",
    "    id_counter = add_node(id_counter, label4, group=\"Risk\")\n",
    "    \n",
    "    label5 = threat_table.iloc[i]['Security_Control_Description']\n",
    "    id_counter = add_node(id_counter, label5, group=\"SecurityControl\", n=2)\n",
    "    \n",
    "    # EDGES\n",
    "    label6 = wrap_by_word(threat_table.iloc[i]['Threat'], 2)\n",
    "    label7 = \"\\nRisk Possibility: \\n\" +  threat_table.iloc[i]['Risk_Possibility'] + \"\\nRisk Impact: \\n\" + threat_table.iloc[i]['Risk_Impact'] + \"\\nRisk Level: \\n\" + threat_table.iloc[i]['Risk_Level']  \n",
    "    \n",
    "    edge_id = add_edge(nodes_ids[label1], nodes_ids[label2], edge_id, label6, length=200)\n",
    "    edge_id = add_edge(nodes_ids[label2], nodes_ids[label3], edge_id)    \n",
    "    edge_id = add_edge(nodes_ids[label3], nodes_ids[label4], edge_id)\n",
    "    edge_id = add_edge(nodes_ids[label4], nodes_ids[label5], edge_id, label7, length=300)\n",
    "\n",
    "    \n",
    "threat_table_2 = {\"nodes\": nodes, \"edges\": edges}\n",
    "\n",
    "# save to JSON\n",
    "with open('threat_table_2.json', 'w') as fp:\n",
    "    json.dump(threat_table_2, fp)"
   ]
  },
  {
   "cell_type": "markdown",
   "metadata": {},
   "source": [
    "## Option 1: With Hierarchy"
   ]
  },
  {
   "cell_type": "code",
   "execution_count": 9,
   "metadata": {
    "scrolled": false
   },
   "outputs": [
    {
     "data": {
      "text/html": [
       "<div id=\"mynetwork2\"></div>\n"
      ],
      "text/plain": [
       "<IPython.core.display.HTML object>"
      ]
     },
     "metadata": {},
     "output_type": "display_data"
    }
   ],
   "source": [
    "%%html\n",
    "<div id=\"mynetwork2\"></div>"
   ]
  },
  {
   "cell_type": "code",
   "execution_count": 10,
   "metadata": {},
   "outputs": [
    {
     "data": {
      "application/javascript": [
       "requirejs.config({\n",
       "    paths: {\n",
       "        vis: 'vis'\n",
       "    }\n",
       "});\n",
       "\n",
       "\n",
       "require(['vis'], function(vis){\n",
       "    \n",
       "    var json = $.getJSON(\"threat_table_2.json\")\n",
       "      .done(function(data){\n",
       "        var data = {\n",
       "          nodes: data.nodes,\n",
       "          edges: data.edges\n",
       "        };\n",
       "        var network = new vis.Network(container, data, options);\n",
       "      });\n",
       "    \n",
       "    var options = {\n",
       "      width: '900px',\n",
       "      height: '800px',\n",
       "      locale: 'en',\n",
       "      physics: false,\n",
       "      interaction: {\n",
       "        hover:true, \n",
       "        tooltipDelay: 300\n",
       "      },        \n",
       "      layout: {\n",
       "        randomSeed: 1,\n",
       "        improvedLayout: true,\n",
       "        hierarchical: {\n",
       "          enabled: true,\n",
       "          direction: 'UD',\n",
       "          nodeSpacing: 200,\n",
       "          levelSeparation: 250,  \n",
       "          sortMethod: 'directed',\n",
       "        },\n",
       "      },\n",
       "    }; \n",
       "    \n",
       "    var container = document.getElementById(\"mynetwork2\");\n",
       "    \n",
       "});\n"
      ],
      "text/plain": [
       "<IPython.core.display.Javascript object>"
      ]
     },
     "metadata": {},
     "output_type": "display_data"
    }
   ],
   "source": [
    "%%javascript\n",
    "requirejs.config({\n",
    "    paths: {\n",
    "        vis: 'vis'\n",
    "    }\n",
    "});\n",
    "\n",
    "\n",
    "require(['vis'], function(vis){\n",
    "    \n",
    "    var json = $.getJSON(\"threat_table_2.json\")\n",
    "      .done(function(data){\n",
    "        var data = {\n",
    "          nodes: data.nodes,\n",
    "          edges: data.edges\n",
    "        };\n",
    "        var network = new vis.Network(container, data, options);\n",
    "      });\n",
    "    \n",
    "    var options = {\n",
    "      width: '900px',\n",
    "      height: '800px',\n",
    "      locale: 'en',\n",
    "      physics: false,\n",
    "      interaction: {\n",
    "        hover:true, \n",
    "        tooltipDelay: 300\n",
    "      },        \n",
    "      layout: {\n",
    "        randomSeed: 1,\n",
    "        improvedLayout: true,\n",
    "        hierarchical: {\n",
    "          enabled: true,\n",
    "          direction: 'UD',\n",
    "          nodeSpacing: 200,\n",
    "          levelSeparation: 250,  \n",
    "          sortMethod: 'directed',\n",
    "        },\n",
    "      },\n",
    "    }; \n",
    "    \n",
    "    var container = document.getElementById(\"mynetwork2\");\n",
    "    \n",
    "});"
   ]
  },
  {
   "cell_type": "markdown",
   "metadata": {},
   "source": [
    "## Option 2: No Hierarchy"
   ]
  },
  {
   "cell_type": "code",
   "execution_count": 11,
   "metadata": {},
   "outputs": [
    {
     "data": {
      "text/html": [
       "<div id=\"mynetwork3\"></div>\n"
      ],
      "text/plain": [
       "<IPython.core.display.HTML object>"
      ]
     },
     "metadata": {},
     "output_type": "display_data"
    }
   ],
   "source": [
    "%%html\n",
    "<div id=\"mynetwork3\"></div>"
   ]
  },
  {
   "cell_type": "code",
   "execution_count": 12,
   "metadata": {},
   "outputs": [
    {
     "data": {
      "application/javascript": [
       "requirejs.config({\n",
       "    paths: {\n",
       "        vis: 'vis'\n",
       "    }\n",
       "});\n",
       "\n",
       "\n",
       "var SHAPE = \"circle\", //\"box\", //\"square\"\n",
       "    SHAPE2 = \"box\",\n",
       "    BLUE = \"#99CDFF\",\n",
       "    YELLOW = \"#FEEBA7\",\n",
       "    GREEN = \"#C6E7B0\",\n",
       "    PURPLE = \"#DAADF0\",\n",
       "    ORANGE = \"#FCC603\",\n",
       "    PINK = \"#FFBBB2\";\n",
       "    \n",
       "\n",
       "require(['vis'], function(vis){ \n",
       "    \n",
       "    var json = $.getJSON(\"threat_table_2.json\")\n",
       "      .done(function(data){\n",
       "        var data = {\n",
       "          nodes: data.nodes,\n",
       "          edges: data.edges\n",
       "        };\n",
       "        var network = new vis.Network(container, data, options);\n",
       "      });\n",
       "       \n",
       "    var options = {      \n",
       "      width: '900px',\n",
       "      height: '800px',\n",
       "      physics: true,\n",
       "      groups: {\n",
       "        TrustBoundary: {\n",
       "          shape: SHAPE,\n",
       "          color: BLUE,\n",
       "        },\n",
       "        Asset: {\n",
       "          shape: SHAPE,\n",
       "          color: YELLOW,\n",
       "        },\n",
       "        ThreatActor: {\n",
       "          shape: SHAPE,\n",
       "          color: PINK,\n",
       "        },\n",
       "        SecurityControl: {\n",
       "          shape: SHAPE,\n",
       "          color: GREEN,\n",
       "        },\n",
       "        Vulnerability: {\n",
       "          shape: SHAPE2,\n",
       "          color: PURPLE,\n",
       "        },\n",
       "        Risk: {\n",
       "          shape: SHAPE2,\n",
       "          color: ORANGE,\n",
       "        },          \n",
       "      },    \n",
       "    };    \n",
       "    \n",
       "    var container = document.getElementById(\"mynetwork3\");\n",
       "});\n"
      ],
      "text/plain": [
       "<IPython.core.display.Javascript object>"
      ]
     },
     "metadata": {},
     "output_type": "display_data"
    }
   ],
   "source": [
    "%%javascript\n",
    "requirejs.config({\n",
    "    paths: {\n",
    "        vis: 'vis'\n",
    "    }\n",
    "});\n",
    "\n",
    "\n",
    "var SHAPE = \"circle\", //\"box\", //\"square\"\n",
    "    SHAPE2 = \"box\",\n",
    "    BLUE = \"#99CDFF\",\n",
    "    YELLOW = \"#FEEBA7\",\n",
    "    GREEN = \"#C6E7B0\",\n",
    "    PURPLE = \"#DAADF0\",\n",
    "    ORANGE = \"#FCC603\",\n",
    "    PINK = \"#FFBBB2\";\n",
    "    \n",
    "\n",
    "require(['vis'], function(vis){ \n",
    "    \n",
    "    var json = $.getJSON(\"threat_table_2.json\")\n",
    "      .done(function(data){\n",
    "        var data = {\n",
    "          nodes: data.nodes,\n",
    "          edges: data.edges\n",
    "        };\n",
    "        var network = new vis.Network(container, data, options);\n",
    "      });\n",
    "       \n",
    "    var options = {      \n",
    "      width: '900px',\n",
    "      height: '800px',\n",
    "      physics: true,\n",
    "      groups: {\n",
    "        TrustBoundary: {\n",
    "          shape: SHAPE,\n",
    "          color: BLUE,\n",
    "        },\n",
    "        Asset: {\n",
    "          shape: SHAPE,\n",
    "          color: YELLOW,\n",
    "        },\n",
    "        ThreatActor: {\n",
    "          shape: SHAPE,\n",
    "          color: PINK,\n",
    "        },\n",
    "        SecurityControl: {\n",
    "          shape: SHAPE,\n",
    "          color: GREEN,\n",
    "        },\n",
    "        Vulnerability: {\n",
    "          shape: SHAPE2,\n",
    "          color: PURPLE,\n",
    "        },\n",
    "        Risk: {\n",
    "          shape: SHAPE2,\n",
    "          color: ORANGE,\n",
    "        },          \n",
    "      },    \n",
    "    };    \n",
    "    \n",
    "    var container = document.getElementById(\"mynetwork3\");\n",
    "});"
   ]
  }
 ],
 "metadata": {
  "kernelspec": {
   "display_name": "Python 3",
   "language": "python",
   "name": "python3"
  },
  "language_info": {
   "codemirror_mode": {
    "name": "ipython",
    "version": 3
   },
   "file_extension": ".py",
   "mimetype": "text/x-python",
   "name": "python",
   "nbconvert_exporter": "python",
   "pygments_lexer": "ipython3",
   "version": "3.7.6"
  }
 },
 "nbformat": 4,
 "nbformat_minor": 4
}
